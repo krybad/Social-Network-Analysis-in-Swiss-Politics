{
 "cells": [
  {
   "cell_type": "markdown",
   "metadata": {
    "id": "ijvkXcvSEtYO"
   },
   "source": [
    "# Correlation and T-Test\n",
    "\n",
    "First step is to setup the the needed environment. This contains the steps of importing the needed libraries and set the correct working directory."
   ]
  },
  {
   "cell_type": "code",
   "execution_count": null,
   "metadata": {
    "id": "dmv-JGugEtoK"
   },
   "outputs": [],
   "source": [
    "import pandas as pd\n",
    "import scipy\n",
    "from scipy import stats\n",
    "import matplotlib.pyplot as plt\n",
    "import numpy as np\n",
    "import os\n",
    "from IPython.core.pylabtools import figsize\n",
    "from numpy import exp\n",
    "from scipy.stats import boxcox"
   ]
  },
  {
   "cell_type": "code",
   "execution_count": null,
   "metadata": {
    "colab": {
     "base_uri": "https://localhost:8080/",
     "height": 36
    },
    "executionInfo": {
     "elapsed": 5,
     "status": "ok",
     "timestamp": 1654849337823,
     "user": {
      "displayName": "sandro suter",
      "userId": "14024534192952893127"
     },
     "user_tz": -120
    },
    "id": "ssjk1ha_sucO",
    "outputId": "d5fe8ed6-eaa1-4454-f9dd-f1c1facb1e50"
   },
   "outputs": [
    {
     "data": {
      "application/vnd.google.colaboratory.intrinsic+json": {
       "type": "string"
      },
      "text/plain": [
       "'/content'"
      ]
     },
     "execution_count": 6,
     "metadata": {},
     "output_type": "execute_result"
    }
   ],
   "source": [
    "os.getcwd()"
   ]
  },
  {
   "cell_type": "code",
   "execution_count": null,
   "metadata": {
    "id": "Hou3XFHLsufC"
   },
   "outputs": [],
   "source": [
    "os.chdir('/content/drive/MyDrive/Social_Interactions')"
   ]
  },
  {
   "cell_type": "code",
   "execution_count": null,
   "metadata": {
    "colab": {
     "base_uri": "https://localhost:8080/",
     "height": 36
    },
    "executionInfo": {
     "elapsed": 14,
     "status": "ok",
     "timestamp": 1654849374664,
     "user": {
      "displayName": "sandro suter",
      "userId": "14024534192952893127"
     },
     "user_tz": -120
    },
    "id": "AhFsXfw-suhB",
    "outputId": "dc6b6756-8ec7-4387-dfbb-c28c636fba05"
   },
   "outputs": [
    {
     "data": {
      "application/vnd.google.colaboratory.intrinsic+json": {
       "type": "string"
      },
      "text/plain": [
       "'/content/drive/MyDrive/Social_Interactions'"
      ]
     },
     "execution_count": 8,
     "metadata": {},
     "output_type": "execute_result"
    }
   ],
   "source": [
    "os.getcwd()"
   ]
  },
  {
   "cell_type": "markdown",
   "metadata": {
    "id": "3t684HbPE-OP"
   },
   "source": [
    "# Data Load"
   ]
  },
  {
   "cell_type": "code",
   "execution_count": null,
   "metadata": {
    "id": "goo9OyXhsuje"
   },
   "outputs": [],
   "source": [
    "df_CVP = pd.read_csv('Data/df_CVP.csv', on_bad_lines='skip')\n",
    "df_closeness_CVP = pd.read_csv('Data/closeness_CVP.csv')\n",
    "\n",
    "df_SVP = pd.read_csv('Data/df_SVP.csv', on_bad_lines='skip')\n",
    "df_closeness_SVP = pd.read_csv('Data/closeness_SVP.csv')\n",
    "\n",
    "df_SP = pd.read_csv('Data/df_SP.csv', on_bad_lines='skip')\n",
    "df_closeness_SP = pd.read_csv('Data/closeness_SP.csv')\n",
    "\n",
    "df_closeness_left = pd.read_csv('Data/closeness_left.csv')\n",
    "\n",
    "df_closeness_right = pd.read_csv('Data/closeness_right.csv')"
   ]
  },
  {
   "cell_type": "markdown",
   "metadata": {
    "id": "QAmZpBa2FFRU"
   },
   "source": [
    "# First Look at Data Structure\n",
    "\n",
    "To get a short overview we show you the loaded Dataframes of the 'CVP'."
   ]
  },
  {
   "cell_type": "code",
   "execution_count": null,
   "metadata": {
    "colab": {
     "base_uri": "https://localhost:8080/"
    },
    "executionInfo": {
     "elapsed": 6,
     "status": "ok",
     "timestamp": 1654849437378,
     "user": {
      "displayName": "sandro suter",
      "userId": "14024534192952893127"
     },
     "user_tz": -120
    },
    "id": "bYz4JxrMsumL",
    "outputId": "2315a14e-7f6a-4f6b-80eb-baf86be5b42f"
   },
   "outputs": [
    {
     "name": "stdout",
     "output_type": "stream",
     "text": [
      "<class 'pandas.core.frame.DataFrame'>\n",
      "RangeIndex: 91494 entries, 0 to 91493\n",
      "Data columns (total 26 columns):\n",
      " #   Column                       Non-Null Count  Dtype \n",
      "---  ------                       --------------  ----- \n",
      " 0   Unnamed: 0                   91494 non-null  int64 \n",
      " 1   AffairShortId                91494 non-null  int64 \n",
      " 2   AffairTitle                  91494 non-null  object\n",
      " 3   VoteRegistrationNumber       91494 non-null  int64 \n",
      " 4   VoteDate                     91494 non-null  object\n",
      " 5   VoteMeaningYes               91129 non-null  object\n",
      " 6   VoteMeaningNo                91217 non-null  object\n",
      " 7   DivisionText                 91494 non-null  object\n",
      " 8   VoteSubmissionText           62542 non-null  object\n",
      " 9   VoteFilteredYes              91494 non-null  int64 \n",
      " 10  VoteFilteredNo               91494 non-null  int64 \n",
      " 11  VoteFilteredAbstain          91494 non-null  int64 \n",
      " 12  VoteFilteredNotParticipated  91494 non-null  int64 \n",
      " 13  VoteFilteredExcused          91494 non-null  int64 \n",
      " 14  VoteFilteredPresident        91494 non-null  int64 \n",
      " 15  CouncillorId                 91494 non-null  int64 \n",
      " 16  CouncillorName               91494 non-null  object\n",
      " 17  CouncillorYes                91494 non-null  int64 \n",
      " 18  CouncillorNo                 91494 non-null  int64 \n",
      " 19  CouncillorAbstain            91494 non-null  int64 \n",
      " 20  CouncillorNotParticipated    91494 non-null  int64 \n",
      " 21  CouncillorExcused            91494 non-null  int64 \n",
      " 22  CouncillorPresident          91494 non-null  int64 \n",
      " 23  Partei                       91494 non-null  object\n",
      " 24  not_reelected                91494 non-null  int64 \n",
      " 25  reelected                    91494 non-null  int64 \n",
      "dtypes: int64(18), object(8)\n",
      "memory usage: 18.1+ MB\n"
     ]
    }
   ],
   "source": [
    "df_CVP.info()"
   ]
  },
  {
   "cell_type": "code",
   "execution_count": null,
   "metadata": {
    "colab": {
     "base_uri": "https://localhost:8080/",
     "height": 261
    },
    "executionInfo": {
     "elapsed": 311,
     "status": "ok",
     "timestamp": 1654855617122,
     "user": {
      "displayName": "sandro suter",
      "userId": "14024534192952893127"
     },
     "user_tz": -120
    },
    "id": "y0KMPR1_FKgn",
    "outputId": "210b5592-950d-4ba9-f701-e9f8caca6f66"
   },
   "outputs": [
    {
     "data": {
      "text/html": [
       "\n",
       "  <div id=\"df-524643b3-b4b5-4b59-b46c-26726ca614ac\">\n",
       "    <div class=\"colab-df-container\">\n",
       "      <div>\n",
       "<style scoped>\n",
       "    .dataframe tbody tr th:only-of-type {\n",
       "        vertical-align: middle;\n",
       "    }\n",
       "\n",
       "    .dataframe tbody tr th {\n",
       "        vertical-align: top;\n",
       "    }\n",
       "\n",
       "    .dataframe thead th {\n",
       "        text-align: right;\n",
       "    }\n",
       "</style>\n",
       "<table border=\"1\" class=\"dataframe\">\n",
       "  <thead>\n",
       "    <tr style=\"text-align: right;\">\n",
       "      <th></th>\n",
       "      <th>Unnamed: 0</th>\n",
       "      <th>AffairShortId</th>\n",
       "      <th>AffairTitle</th>\n",
       "      <th>VoteRegistrationNumber</th>\n",
       "      <th>VoteDate</th>\n",
       "      <th>VoteMeaningYes</th>\n",
       "      <th>VoteMeaningNo</th>\n",
       "      <th>DivisionText</th>\n",
       "      <th>VoteSubmissionText</th>\n",
       "      <th>VoteFilteredYes</th>\n",
       "      <th>...</th>\n",
       "      <th>CouncillorName</th>\n",
       "      <th>CouncillorYes</th>\n",
       "      <th>CouncillorNo</th>\n",
       "      <th>CouncillorAbstain</th>\n",
       "      <th>CouncillorNotParticipated</th>\n",
       "      <th>CouncillorExcused</th>\n",
       "      <th>CouncillorPresident</th>\n",
       "      <th>Partei</th>\n",
       "      <th>not_reelected</th>\n",
       "      <th>reelected</th>\n",
       "    </tr>\n",
       "  </thead>\n",
       "  <tbody>\n",
       "    <tr>\n",
       "      <th>0</th>\n",
       "      <td>13</td>\n",
       "      <td>20193033</td>\n",
       "      <td>Offensive zur Stärkung des Wirtschaftsstandort...</td>\n",
       "      <td>19593</td>\n",
       "      <td>Thu Sep 26 2019 20:05:17 GMT+0200 (Mitteleurop...</td>\n",
       "      <td>Accettare la mozione</td>\n",
       "      <td>Respingere la mozione</td>\n",
       "      <td>Ja</td>\n",
       "      <td>NaN</td>\n",
       "      <td>121</td>\n",
       "      <td>...</td>\n",
       "      <td>Glanzmann-Hunkeler Ida</td>\n",
       "      <td>1</td>\n",
       "      <td>0</td>\n",
       "      <td>0</td>\n",
       "      <td>0</td>\n",
       "      <td>0</td>\n",
       "      <td>0</td>\n",
       "      <td>CVP</td>\n",
       "      <td>0</td>\n",
       "      <td>1</td>\n",
       "    </tr>\n",
       "  </tbody>\n",
       "</table>\n",
       "<p>1 rows × 26 columns</p>\n",
       "</div>\n",
       "      <button class=\"colab-df-convert\" onclick=\"convertToInteractive('df-524643b3-b4b5-4b59-b46c-26726ca614ac')\"\n",
       "              title=\"Convert this dataframe to an interactive table.\"\n",
       "              style=\"display:none;\">\n",
       "        \n",
       "  <svg xmlns=\"http://www.w3.org/2000/svg\" height=\"24px\"viewBox=\"0 0 24 24\"\n",
       "       width=\"24px\">\n",
       "    <path d=\"M0 0h24v24H0V0z\" fill=\"none\"/>\n",
       "    <path d=\"M18.56 5.44l.94 2.06.94-2.06 2.06-.94-2.06-.94-.94-2.06-.94 2.06-2.06.94zm-11 1L8.5 8.5l.94-2.06 2.06-.94-2.06-.94L8.5 2.5l-.94 2.06-2.06.94zm10 10l.94 2.06.94-2.06 2.06-.94-2.06-.94-.94-2.06-.94 2.06-2.06.94z\"/><path d=\"M17.41 7.96l-1.37-1.37c-.4-.4-.92-.59-1.43-.59-.52 0-1.04.2-1.43.59L10.3 9.45l-7.72 7.72c-.78.78-.78 2.05 0 2.83L4 21.41c.39.39.9.59 1.41.59.51 0 1.02-.2 1.41-.59l7.78-7.78 2.81-2.81c.8-.78.8-2.07 0-2.86zM5.41 20L4 18.59l7.72-7.72 1.47 1.35L5.41 20z\"/>\n",
       "  </svg>\n",
       "      </button>\n",
       "      \n",
       "  <style>\n",
       "    .colab-df-container {\n",
       "      display:flex;\n",
       "      flex-wrap:wrap;\n",
       "      gap: 12px;\n",
       "    }\n",
       "\n",
       "    .colab-df-convert {\n",
       "      background-color: #E8F0FE;\n",
       "      border: none;\n",
       "      border-radius: 50%;\n",
       "      cursor: pointer;\n",
       "      display: none;\n",
       "      fill: #1967D2;\n",
       "      height: 32px;\n",
       "      padding: 0 0 0 0;\n",
       "      width: 32px;\n",
       "    }\n",
       "\n",
       "    .colab-df-convert:hover {\n",
       "      background-color: #E2EBFA;\n",
       "      box-shadow: 0px 1px 2px rgba(60, 64, 67, 0.3), 0px 1px 3px 1px rgba(60, 64, 67, 0.15);\n",
       "      fill: #174EA6;\n",
       "    }\n",
       "\n",
       "    [theme=dark] .colab-df-convert {\n",
       "      background-color: #3B4455;\n",
       "      fill: #D2E3FC;\n",
       "    }\n",
       "\n",
       "    [theme=dark] .colab-df-convert:hover {\n",
       "      background-color: #434B5C;\n",
       "      box-shadow: 0px 1px 3px 1px rgba(0, 0, 0, 0.15);\n",
       "      filter: drop-shadow(0px 1px 2px rgba(0, 0, 0, 0.3));\n",
       "      fill: #FFFFFF;\n",
       "    }\n",
       "  </style>\n",
       "\n",
       "      <script>\n",
       "        const buttonEl =\n",
       "          document.querySelector('#df-524643b3-b4b5-4b59-b46c-26726ca614ac button.colab-df-convert');\n",
       "        buttonEl.style.display =\n",
       "          google.colab.kernel.accessAllowed ? 'block' : 'none';\n",
       "\n",
       "        async function convertToInteractive(key) {\n",
       "          const element = document.querySelector('#df-524643b3-b4b5-4b59-b46c-26726ca614ac');\n",
       "          const dataTable =\n",
       "            await google.colab.kernel.invokeFunction('convertToInteractive',\n",
       "                                                     [key], {});\n",
       "          if (!dataTable) return;\n",
       "\n",
       "          const docLinkHtml = 'Like what you see? Visit the ' +\n",
       "            '<a target=\"_blank\" href=https://colab.research.google.com/notebooks/data_table.ipynb>data table notebook</a>'\n",
       "            + ' to learn more about interactive tables.';\n",
       "          element.innerHTML = '';\n",
       "          dataTable['output_type'] = 'display_data';\n",
       "          await google.colab.output.renderOutput(dataTable, element);\n",
       "          const docLink = document.createElement('div');\n",
       "          docLink.innerHTML = docLinkHtml;\n",
       "          element.appendChild(docLink);\n",
       "        }\n",
       "      </script>\n",
       "    </div>\n",
       "  </div>\n",
       "  "
      ],
      "text/plain": [
       "   Unnamed: 0  AffairShortId  \\\n",
       "0          13       20193033   \n",
       "\n",
       "                                         AffairTitle  VoteRegistrationNumber  \\\n",
       "0  Offensive zur Stärkung des Wirtschaftsstandort...                   19593   \n",
       "\n",
       "                                            VoteDate        VoteMeaningYes  \\\n",
       "0  Thu Sep 26 2019 20:05:17 GMT+0200 (Mitteleurop...  Accettare la mozione   \n",
       "\n",
       "           VoteMeaningNo DivisionText VoteSubmissionText  VoteFilteredYes  \\\n",
       "0  Respingere la mozione           Ja                NaN              121   \n",
       "\n",
       "   ...          CouncillorName  CouncillorYes  CouncillorNo  \\\n",
       "0  ...  Glanzmann-Hunkeler Ida              1             0   \n",
       "\n",
       "   CouncillorAbstain  CouncillorNotParticipated  CouncillorExcused  \\\n",
       "0                  0                          0                  0   \n",
       "\n",
       "  CouncillorPresident  Partei  not_reelected  reelected  \n",
       "0                   0     CVP              0          1  \n",
       "\n",
       "[1 rows x 26 columns]"
      ]
     },
     "execution_count": 137,
     "metadata": {},
     "output_type": "execute_result"
    }
   ],
   "source": [
    "df_CVP.head(1)"
   ]
  },
  {
   "cell_type": "code",
   "execution_count": null,
   "metadata": {
    "colab": {
     "base_uri": "https://localhost:8080/"
    },
    "executionInfo": {
     "elapsed": 322,
     "status": "ok",
     "timestamp": 1654855625478,
     "user": {
      "displayName": "sandro suter",
      "userId": "14024534192952893127"
     },
     "user_tz": -120
    },
    "id": "oTpUjagQsuo3",
    "outputId": "fc7f4178-2ab8-4d7a-d266-de6c56ec46f6"
   },
   "outputs": [
    {
     "name": "stdout",
     "output_type": "stream",
     "text": [
      "<class 'pandas.core.frame.DataFrame'>\n",
      "RangeIndex: 23 entries, 0 to 22\n",
      "Data columns (total 2 columns):\n",
      " #   Column                Non-Null Count  Dtype  \n",
      "---  ------                --------------  -----  \n",
      " 0   CouncillorId          23 non-null     int64  \n",
      " 1   Closeness_Centrality  23 non-null     float64\n",
      "dtypes: float64(1), int64(1)\n",
      "memory usage: 496.0 bytes\n"
     ]
    }
   ],
   "source": [
    "df_closeness_CVP.info()"
   ]
  },
  {
   "cell_type": "code",
   "execution_count": null,
   "metadata": {
    "colab": {
     "base_uri": "https://localhost:8080/",
     "height": 206
    },
    "executionInfo": {
     "elapsed": 308,
     "status": "ok",
     "timestamp": 1654855633436,
     "user": {
      "displayName": "sandro suter",
      "userId": "14024534192952893127"
     },
     "user_tz": -120
    },
    "id": "4iMV_7busury",
    "outputId": "21767ca4-b844-44d8-e2c0-083c45ab5da8"
   },
   "outputs": [
    {
     "data": {
      "text/html": [
       "\n",
       "  <div id=\"df-b96210be-3ff2-44e6-83ef-5b0381fc0486\">\n",
       "    <div class=\"colab-df-container\">\n",
       "      <div>\n",
       "<style scoped>\n",
       "    .dataframe tbody tr th:only-of-type {\n",
       "        vertical-align: middle;\n",
       "    }\n",
       "\n",
       "    .dataframe tbody tr th {\n",
       "        vertical-align: top;\n",
       "    }\n",
       "\n",
       "    .dataframe thead th {\n",
       "        text-align: right;\n",
       "    }\n",
       "</style>\n",
       "<table border=\"1\" class=\"dataframe\">\n",
       "  <thead>\n",
       "    <tr style=\"text-align: right;\">\n",
       "      <th></th>\n",
       "      <th>CouncillorId</th>\n",
       "      <th>Closeness_Centrality</th>\n",
       "    </tr>\n",
       "  </thead>\n",
       "  <tbody>\n",
       "    <tr>\n",
       "      <th>0</th>\n",
       "      <td>4096</td>\n",
       "      <td>0.001792</td>\n",
       "    </tr>\n",
       "    <tr>\n",
       "      <th>1</th>\n",
       "      <td>4097</td>\n",
       "      <td>0.001777</td>\n",
       "    </tr>\n",
       "    <tr>\n",
       "      <th>2</th>\n",
       "      <td>4225</td>\n",
       "      <td>0.003407</td>\n",
       "    </tr>\n",
       "    <tr>\n",
       "      <th>3</th>\n",
       "      <td>4101</td>\n",
       "      <td>0.001771</td>\n",
       "    </tr>\n",
       "    <tr>\n",
       "      <th>4</th>\n",
       "      <td>4118</td>\n",
       "      <td>0.001748</td>\n",
       "    </tr>\n",
       "  </tbody>\n",
       "</table>\n",
       "</div>\n",
       "      <button class=\"colab-df-convert\" onclick=\"convertToInteractive('df-b96210be-3ff2-44e6-83ef-5b0381fc0486')\"\n",
       "              title=\"Convert this dataframe to an interactive table.\"\n",
       "              style=\"display:none;\">\n",
       "        \n",
       "  <svg xmlns=\"http://www.w3.org/2000/svg\" height=\"24px\"viewBox=\"0 0 24 24\"\n",
       "       width=\"24px\">\n",
       "    <path d=\"M0 0h24v24H0V0z\" fill=\"none\"/>\n",
       "    <path d=\"M18.56 5.44l.94 2.06.94-2.06 2.06-.94-2.06-.94-.94-2.06-.94 2.06-2.06.94zm-11 1L8.5 8.5l.94-2.06 2.06-.94-2.06-.94L8.5 2.5l-.94 2.06-2.06.94zm10 10l.94 2.06.94-2.06 2.06-.94-2.06-.94-.94-2.06-.94 2.06-2.06.94z\"/><path d=\"M17.41 7.96l-1.37-1.37c-.4-.4-.92-.59-1.43-.59-.52 0-1.04.2-1.43.59L10.3 9.45l-7.72 7.72c-.78.78-.78 2.05 0 2.83L4 21.41c.39.39.9.59 1.41.59.51 0 1.02-.2 1.41-.59l7.78-7.78 2.81-2.81c.8-.78.8-2.07 0-2.86zM5.41 20L4 18.59l7.72-7.72 1.47 1.35L5.41 20z\"/>\n",
       "  </svg>\n",
       "      </button>\n",
       "      \n",
       "  <style>\n",
       "    .colab-df-container {\n",
       "      display:flex;\n",
       "      flex-wrap:wrap;\n",
       "      gap: 12px;\n",
       "    }\n",
       "\n",
       "    .colab-df-convert {\n",
       "      background-color: #E8F0FE;\n",
       "      border: none;\n",
       "      border-radius: 50%;\n",
       "      cursor: pointer;\n",
       "      display: none;\n",
       "      fill: #1967D2;\n",
       "      height: 32px;\n",
       "      padding: 0 0 0 0;\n",
       "      width: 32px;\n",
       "    }\n",
       "\n",
       "    .colab-df-convert:hover {\n",
       "      background-color: #E2EBFA;\n",
       "      box-shadow: 0px 1px 2px rgba(60, 64, 67, 0.3), 0px 1px 3px 1px rgba(60, 64, 67, 0.15);\n",
       "      fill: #174EA6;\n",
       "    }\n",
       "\n",
       "    [theme=dark] .colab-df-convert {\n",
       "      background-color: #3B4455;\n",
       "      fill: #D2E3FC;\n",
       "    }\n",
       "\n",
       "    [theme=dark] .colab-df-convert:hover {\n",
       "      background-color: #434B5C;\n",
       "      box-shadow: 0px 1px 3px 1px rgba(0, 0, 0, 0.15);\n",
       "      filter: drop-shadow(0px 1px 2px rgba(0, 0, 0, 0.3));\n",
       "      fill: #FFFFFF;\n",
       "    }\n",
       "  </style>\n",
       "\n",
       "      <script>\n",
       "        const buttonEl =\n",
       "          document.querySelector('#df-b96210be-3ff2-44e6-83ef-5b0381fc0486 button.colab-df-convert');\n",
       "        buttonEl.style.display =\n",
       "          google.colab.kernel.accessAllowed ? 'block' : 'none';\n",
       "\n",
       "        async function convertToInteractive(key) {\n",
       "          const element = document.querySelector('#df-b96210be-3ff2-44e6-83ef-5b0381fc0486');\n",
       "          const dataTable =\n",
       "            await google.colab.kernel.invokeFunction('convertToInteractive',\n",
       "                                                     [key], {});\n",
       "          if (!dataTable) return;\n",
       "\n",
       "          const docLinkHtml = 'Like what you see? Visit the ' +\n",
       "            '<a target=\"_blank\" href=https://colab.research.google.com/notebooks/data_table.ipynb>data table notebook</a>'\n",
       "            + ' to learn more about interactive tables.';\n",
       "          element.innerHTML = '';\n",
       "          dataTable['output_type'] = 'display_data';\n",
       "          await google.colab.output.renderOutput(dataTable, element);\n",
       "          const docLink = document.createElement('div');\n",
       "          docLink.innerHTML = docLinkHtml;\n",
       "          element.appendChild(docLink);\n",
       "        }\n",
       "      </script>\n",
       "    </div>\n",
       "  </div>\n",
       "  "
      ],
      "text/plain": [
       "   CouncillorId  Closeness_Centrality\n",
       "0          4096              0.001792\n",
       "1          4097              0.001777\n",
       "2          4225              0.003407\n",
       "3          4101              0.001771\n",
       "4          4118              0.001748"
      ]
     },
     "execution_count": 139,
     "metadata": {},
     "output_type": "execute_result"
    }
   ],
   "source": [
    "df_closeness_CVP.head()"
   ]
  },
  {
   "cell_type": "markdown",
   "metadata": {
    "id": "EPitZz89FaYC"
   },
   "source": [
    "# Data Preparation for Correlation Analysis"
   ]
  },
  {
   "cell_type": "code",
   "execution_count": null,
   "metadata": {
    "id": "AAGLAgs-Fetf"
   },
   "outputs": [],
   "source": [
    "#Function to prepare Data\n",
    "def data_preparator_correlation(df_election, df_closeness):\n",
    "  df_use = df_election[['CouncillorId', 'not_reelected', 'reelected']]\n",
    "\n",
    "  df_use_use = pd.DataFrame(columns=['CouncillorId', 'not_reelected', 'reelected'])\n",
    "\n",
    "  for i in df_use.index:\n",
    "    x = pd.DataFrame(df_use.iloc[i]).T\n",
    "    if int(x['CouncillorId']) in list(df_use_use['CouncillorId']):\n",
    "      next\n",
    "    else:\n",
    "      df_use_use = df_use_use.append(x)\n",
    "  \n",
    "  df_use_use = df_use_use.reset_index()\n",
    "\n",
    "  df_closeness.rename(columns={'Unnamed: 0': 'CouncillorId'},inplace=True)\n",
    "\n",
    "  df_correlation = df_use_use.merge(df_closeness, how='inner', on='CouncillorId')\n",
    "\n",
    "  df_correlation = df_correlation.drop(['index'], axis=1)\n",
    "\n",
    "  return df_correlation\n",
    "  "
   ]
  },
  {
   "cell_type": "code",
   "execution_count": null,
   "metadata": {
    "id": "2yt_8qqJGYts"
   },
   "outputs": [],
   "source": [
    "df_correlation_CVP = data_preparator_correlation(df_CVP, df_closeness_CVP)\n",
    "df_correlation_SVP = data_preparator_correlation(df_SVP, df_closeness_SVP)\n",
    "df_correlation_SP = data_preparator_correlation(df_SP, df_closeness_SP)"
   ]
  },
  {
   "cell_type": "code",
   "execution_count": null,
   "metadata": {
    "colab": {
     "base_uri": "https://localhost:8080/",
     "height": 81
    },
    "executionInfo": {
     "elapsed": 308,
     "status": "ok",
     "timestamp": 1654856431092,
     "user": {
      "displayName": "sandro suter",
      "userId": "14024534192952893127"
     },
     "user_tz": -120
    },
    "id": "Eg0JlIlQ-7Jh",
    "outputId": "8af59939-86cd-4d92-e7f4-87ce38c8abb8"
   },
   "outputs": [
    {
     "data": {
      "text/html": [
       "\n",
       "  <div id=\"df-18011d10-5e52-4e71-bada-4e9e1f0055e4\">\n",
       "    <div class=\"colab-df-container\">\n",
       "      <div>\n",
       "<style scoped>\n",
       "    .dataframe tbody tr th:only-of-type {\n",
       "        vertical-align: middle;\n",
       "    }\n",
       "\n",
       "    .dataframe tbody tr th {\n",
       "        vertical-align: top;\n",
       "    }\n",
       "\n",
       "    .dataframe thead th {\n",
       "        text-align: right;\n",
       "    }\n",
       "</style>\n",
       "<table border=\"1\" class=\"dataframe\">\n",
       "  <thead>\n",
       "    <tr style=\"text-align: right;\">\n",
       "      <th></th>\n",
       "      <th>CouncillorId</th>\n",
       "      <th>not_reelected</th>\n",
       "      <th>reelected</th>\n",
       "      <th>Closeness_Centrality</th>\n",
       "    </tr>\n",
       "  </thead>\n",
       "  <tbody>\n",
       "    <tr>\n",
       "      <th>0</th>\n",
       "      <td>1337</td>\n",
       "      <td>0</td>\n",
       "      <td>1</td>\n",
       "      <td>0.001874</td>\n",
       "    </tr>\n",
       "  </tbody>\n",
       "</table>\n",
       "</div>\n",
       "      <button class=\"colab-df-convert\" onclick=\"convertToInteractive('df-18011d10-5e52-4e71-bada-4e9e1f0055e4')\"\n",
       "              title=\"Convert this dataframe to an interactive table.\"\n",
       "              style=\"display:none;\">\n",
       "        \n",
       "  <svg xmlns=\"http://www.w3.org/2000/svg\" height=\"24px\"viewBox=\"0 0 24 24\"\n",
       "       width=\"24px\">\n",
       "    <path d=\"M0 0h24v24H0V0z\" fill=\"none\"/>\n",
       "    <path d=\"M18.56 5.44l.94 2.06.94-2.06 2.06-.94-2.06-.94-.94-2.06-.94 2.06-2.06.94zm-11 1L8.5 8.5l.94-2.06 2.06-.94-2.06-.94L8.5 2.5l-.94 2.06-2.06.94zm10 10l.94 2.06.94-2.06 2.06-.94-2.06-.94-.94-2.06-.94 2.06-2.06.94z\"/><path d=\"M17.41 7.96l-1.37-1.37c-.4-.4-.92-.59-1.43-.59-.52 0-1.04.2-1.43.59L10.3 9.45l-7.72 7.72c-.78.78-.78 2.05 0 2.83L4 21.41c.39.39.9.59 1.41.59.51 0 1.02-.2 1.41-.59l7.78-7.78 2.81-2.81c.8-.78.8-2.07 0-2.86zM5.41 20L4 18.59l7.72-7.72 1.47 1.35L5.41 20z\"/>\n",
       "  </svg>\n",
       "      </button>\n",
       "      \n",
       "  <style>\n",
       "    .colab-df-container {\n",
       "      display:flex;\n",
       "      flex-wrap:wrap;\n",
       "      gap: 12px;\n",
       "    }\n",
       "\n",
       "    .colab-df-convert {\n",
       "      background-color: #E8F0FE;\n",
       "      border: none;\n",
       "      border-radius: 50%;\n",
       "      cursor: pointer;\n",
       "      display: none;\n",
       "      fill: #1967D2;\n",
       "      height: 32px;\n",
       "      padding: 0 0 0 0;\n",
       "      width: 32px;\n",
       "    }\n",
       "\n",
       "    .colab-df-convert:hover {\n",
       "      background-color: #E2EBFA;\n",
       "      box-shadow: 0px 1px 2px rgba(60, 64, 67, 0.3), 0px 1px 3px 1px rgba(60, 64, 67, 0.15);\n",
       "      fill: #174EA6;\n",
       "    }\n",
       "\n",
       "    [theme=dark] .colab-df-convert {\n",
       "      background-color: #3B4455;\n",
       "      fill: #D2E3FC;\n",
       "    }\n",
       "\n",
       "    [theme=dark] .colab-df-convert:hover {\n",
       "      background-color: #434B5C;\n",
       "      box-shadow: 0px 1px 3px 1px rgba(0, 0, 0, 0.15);\n",
       "      filter: drop-shadow(0px 1px 2px rgba(0, 0, 0, 0.3));\n",
       "      fill: #FFFFFF;\n",
       "    }\n",
       "  </style>\n",
       "\n",
       "      <script>\n",
       "        const buttonEl =\n",
       "          document.querySelector('#df-18011d10-5e52-4e71-bada-4e9e1f0055e4 button.colab-df-convert');\n",
       "        buttonEl.style.display =\n",
       "          google.colab.kernel.accessAllowed ? 'block' : 'none';\n",
       "\n",
       "        async function convertToInteractive(key) {\n",
       "          const element = document.querySelector('#df-18011d10-5e52-4e71-bada-4e9e1f0055e4');\n",
       "          const dataTable =\n",
       "            await google.colab.kernel.invokeFunction('convertToInteractive',\n",
       "                                                     [key], {});\n",
       "          if (!dataTable) return;\n",
       "\n",
       "          const docLinkHtml = 'Like what you see? Visit the ' +\n",
       "            '<a target=\"_blank\" href=https://colab.research.google.com/notebooks/data_table.ipynb>data table notebook</a>'\n",
       "            + ' to learn more about interactive tables.';\n",
       "          element.innerHTML = '';\n",
       "          dataTable['output_type'] = 'display_data';\n",
       "          await google.colab.output.renderOutput(dataTable, element);\n",
       "          const docLink = document.createElement('div');\n",
       "          docLink.innerHTML = docLinkHtml;\n",
       "          element.appendChild(docLink);\n",
       "        }\n",
       "      </script>\n",
       "    </div>\n",
       "  </div>\n",
       "  "
      ],
      "text/plain": [
       "  CouncillorId not_reelected reelected  Closeness_Centrality\n",
       "0         1337             0         1              0.001874"
      ]
     },
     "execution_count": 144,
     "metadata": {},
     "output_type": "execute_result"
    }
   ],
   "source": [
    "df_correlation_CVP.head(1)"
   ]
  },
  {
   "cell_type": "code",
   "execution_count": null,
   "metadata": {
    "colab": {
     "base_uri": "https://localhost:8080/",
     "height": 81
    },
    "executionInfo": {
     "elapsed": 317,
     "status": "ok",
     "timestamp": 1654856434714,
     "user": {
      "displayName": "sandro suter",
      "userId": "14024534192952893127"
     },
     "user_tz": -120
    },
    "id": "yV2GG6v8-7MI",
    "outputId": "81f62f89-34d4-4b7e-90c6-359a55289387"
   },
   "outputs": [
    {
     "data": {
      "text/html": [
       "\n",
       "  <div id=\"df-9fbd5d36-5bed-4553-ac77-2c891dbe4287\">\n",
       "    <div class=\"colab-df-container\">\n",
       "      <div>\n",
       "<style scoped>\n",
       "    .dataframe tbody tr th:only-of-type {\n",
       "        vertical-align: middle;\n",
       "    }\n",
       "\n",
       "    .dataframe tbody tr th {\n",
       "        vertical-align: top;\n",
       "    }\n",
       "\n",
       "    .dataframe thead th {\n",
       "        text-align: right;\n",
       "    }\n",
       "</style>\n",
       "<table border=\"1\" class=\"dataframe\">\n",
       "  <thead>\n",
       "    <tr style=\"text-align: right;\">\n",
       "      <th></th>\n",
       "      <th>CouncillorId</th>\n",
       "      <th>not_reelected</th>\n",
       "      <th>reelected</th>\n",
       "      <th>Closeness_Centrality</th>\n",
       "    </tr>\n",
       "  </thead>\n",
       "  <tbody>\n",
       "    <tr>\n",
       "      <th>0</th>\n",
       "      <td>3883</td>\n",
       "      <td>1</td>\n",
       "      <td>0</td>\n",
       "      <td>0.001315</td>\n",
       "    </tr>\n",
       "  </tbody>\n",
       "</table>\n",
       "</div>\n",
       "      <button class=\"colab-df-convert\" onclick=\"convertToInteractive('df-9fbd5d36-5bed-4553-ac77-2c891dbe4287')\"\n",
       "              title=\"Convert this dataframe to an interactive table.\"\n",
       "              style=\"display:none;\">\n",
       "        \n",
       "  <svg xmlns=\"http://www.w3.org/2000/svg\" height=\"24px\"viewBox=\"0 0 24 24\"\n",
       "       width=\"24px\">\n",
       "    <path d=\"M0 0h24v24H0V0z\" fill=\"none\"/>\n",
       "    <path d=\"M18.56 5.44l.94 2.06.94-2.06 2.06-.94-2.06-.94-.94-2.06-.94 2.06-2.06.94zm-11 1L8.5 8.5l.94-2.06 2.06-.94-2.06-.94L8.5 2.5l-.94 2.06-2.06.94zm10 10l.94 2.06.94-2.06 2.06-.94-2.06-.94-.94-2.06-.94 2.06-2.06.94z\"/><path d=\"M17.41 7.96l-1.37-1.37c-.4-.4-.92-.59-1.43-.59-.52 0-1.04.2-1.43.59L10.3 9.45l-7.72 7.72c-.78.78-.78 2.05 0 2.83L4 21.41c.39.39.9.59 1.41.59.51 0 1.02-.2 1.41-.59l7.78-7.78 2.81-2.81c.8-.78.8-2.07 0-2.86zM5.41 20L4 18.59l7.72-7.72 1.47 1.35L5.41 20z\"/>\n",
       "  </svg>\n",
       "      </button>\n",
       "      \n",
       "  <style>\n",
       "    .colab-df-container {\n",
       "      display:flex;\n",
       "      flex-wrap:wrap;\n",
       "      gap: 12px;\n",
       "    }\n",
       "\n",
       "    .colab-df-convert {\n",
       "      background-color: #E8F0FE;\n",
       "      border: none;\n",
       "      border-radius: 50%;\n",
       "      cursor: pointer;\n",
       "      display: none;\n",
       "      fill: #1967D2;\n",
       "      height: 32px;\n",
       "      padding: 0 0 0 0;\n",
       "      width: 32px;\n",
       "    }\n",
       "\n",
       "    .colab-df-convert:hover {\n",
       "      background-color: #E2EBFA;\n",
       "      box-shadow: 0px 1px 2px rgba(60, 64, 67, 0.3), 0px 1px 3px 1px rgba(60, 64, 67, 0.15);\n",
       "      fill: #174EA6;\n",
       "    }\n",
       "\n",
       "    [theme=dark] .colab-df-convert {\n",
       "      background-color: #3B4455;\n",
       "      fill: #D2E3FC;\n",
       "    }\n",
       "\n",
       "    [theme=dark] .colab-df-convert:hover {\n",
       "      background-color: #434B5C;\n",
       "      box-shadow: 0px 1px 3px 1px rgba(0, 0, 0, 0.15);\n",
       "      filter: drop-shadow(0px 1px 2px rgba(0, 0, 0, 0.3));\n",
       "      fill: #FFFFFF;\n",
       "    }\n",
       "  </style>\n",
       "\n",
       "      <script>\n",
       "        const buttonEl =\n",
       "          document.querySelector('#df-9fbd5d36-5bed-4553-ac77-2c891dbe4287 button.colab-df-convert');\n",
       "        buttonEl.style.display =\n",
       "          google.colab.kernel.accessAllowed ? 'block' : 'none';\n",
       "\n",
       "        async function convertToInteractive(key) {\n",
       "          const element = document.querySelector('#df-9fbd5d36-5bed-4553-ac77-2c891dbe4287');\n",
       "          const dataTable =\n",
       "            await google.colab.kernel.invokeFunction('convertToInteractive',\n",
       "                                                     [key], {});\n",
       "          if (!dataTable) return;\n",
       "\n",
       "          const docLinkHtml = 'Like what you see? Visit the ' +\n",
       "            '<a target=\"_blank\" href=https://colab.research.google.com/notebooks/data_table.ipynb>data table notebook</a>'\n",
       "            + ' to learn more about interactive tables.';\n",
       "          element.innerHTML = '';\n",
       "          dataTable['output_type'] = 'display_data';\n",
       "          await google.colab.output.renderOutput(dataTable, element);\n",
       "          const docLink = document.createElement('div');\n",
       "          docLink.innerHTML = docLinkHtml;\n",
       "          element.appendChild(docLink);\n",
       "        }\n",
       "      </script>\n",
       "    </div>\n",
       "  </div>\n",
       "  "
      ],
      "text/plain": [
       "  CouncillorId not_reelected reelected  Closeness_Centrality\n",
       "0         3883             1         0              0.001315"
      ]
     },
     "execution_count": 145,
     "metadata": {},
     "output_type": "execute_result"
    }
   ],
   "source": [
    "df_correlation_SVP.head(1)"
   ]
  },
  {
   "cell_type": "code",
   "execution_count": null,
   "metadata": {
    "colab": {
     "base_uri": "https://localhost:8080/",
     "height": 81
    },
    "executionInfo": {
     "elapsed": 309,
     "status": "ok",
     "timestamp": 1654856436994,
     "user": {
      "displayName": "sandro suter",
      "userId": "14024534192952893127"
     },
     "user_tz": -120
    },
    "id": "eOT7j-QJ-7PF",
    "outputId": "9bfb1672-75b2-44e1-a34b-9db014f1bd70"
   },
   "outputs": [
    {
     "data": {
      "text/html": [
       "\n",
       "  <div id=\"df-681a458c-9e73-4c4a-8c36-848fb8fd436c\">\n",
       "    <div class=\"colab-df-container\">\n",
       "      <div>\n",
       "<style scoped>\n",
       "    .dataframe tbody tr th:only-of-type {\n",
       "        vertical-align: middle;\n",
       "    }\n",
       "\n",
       "    .dataframe tbody tr th {\n",
       "        vertical-align: top;\n",
       "    }\n",
       "\n",
       "    .dataframe thead th {\n",
       "        text-align: right;\n",
       "    }\n",
       "</style>\n",
       "<table border=\"1\" class=\"dataframe\">\n",
       "  <thead>\n",
       "    <tr style=\"text-align: right;\">\n",
       "      <th></th>\n",
       "      <th>CouncillorId</th>\n",
       "      <th>not_reelected</th>\n",
       "      <th>reelected</th>\n",
       "      <th>Closeness_Centrality</th>\n",
       "    </tr>\n",
       "  </thead>\n",
       "  <tbody>\n",
       "    <tr>\n",
       "      <th>0</th>\n",
       "      <td>3923</td>\n",
       "      <td>0</td>\n",
       "      <td>1</td>\n",
       "      <td>0.002069</td>\n",
       "    </tr>\n",
       "  </tbody>\n",
       "</table>\n",
       "</div>\n",
       "      <button class=\"colab-df-convert\" onclick=\"convertToInteractive('df-681a458c-9e73-4c4a-8c36-848fb8fd436c')\"\n",
       "              title=\"Convert this dataframe to an interactive table.\"\n",
       "              style=\"display:none;\">\n",
       "        \n",
       "  <svg xmlns=\"http://www.w3.org/2000/svg\" height=\"24px\"viewBox=\"0 0 24 24\"\n",
       "       width=\"24px\">\n",
       "    <path d=\"M0 0h24v24H0V0z\" fill=\"none\"/>\n",
       "    <path d=\"M18.56 5.44l.94 2.06.94-2.06 2.06-.94-2.06-.94-.94-2.06-.94 2.06-2.06.94zm-11 1L8.5 8.5l.94-2.06 2.06-.94-2.06-.94L8.5 2.5l-.94 2.06-2.06.94zm10 10l.94 2.06.94-2.06 2.06-.94-2.06-.94-.94-2.06-.94 2.06-2.06.94z\"/><path d=\"M17.41 7.96l-1.37-1.37c-.4-.4-.92-.59-1.43-.59-.52 0-1.04.2-1.43.59L10.3 9.45l-7.72 7.72c-.78.78-.78 2.05 0 2.83L4 21.41c.39.39.9.59 1.41.59.51 0 1.02-.2 1.41-.59l7.78-7.78 2.81-2.81c.8-.78.8-2.07 0-2.86zM5.41 20L4 18.59l7.72-7.72 1.47 1.35L5.41 20z\"/>\n",
       "  </svg>\n",
       "      </button>\n",
       "      \n",
       "  <style>\n",
       "    .colab-df-container {\n",
       "      display:flex;\n",
       "      flex-wrap:wrap;\n",
       "      gap: 12px;\n",
       "    }\n",
       "\n",
       "    .colab-df-convert {\n",
       "      background-color: #E8F0FE;\n",
       "      border: none;\n",
       "      border-radius: 50%;\n",
       "      cursor: pointer;\n",
       "      display: none;\n",
       "      fill: #1967D2;\n",
       "      height: 32px;\n",
       "      padding: 0 0 0 0;\n",
       "      width: 32px;\n",
       "    }\n",
       "\n",
       "    .colab-df-convert:hover {\n",
       "      background-color: #E2EBFA;\n",
       "      box-shadow: 0px 1px 2px rgba(60, 64, 67, 0.3), 0px 1px 3px 1px rgba(60, 64, 67, 0.15);\n",
       "      fill: #174EA6;\n",
       "    }\n",
       "\n",
       "    [theme=dark] .colab-df-convert {\n",
       "      background-color: #3B4455;\n",
       "      fill: #D2E3FC;\n",
       "    }\n",
       "\n",
       "    [theme=dark] .colab-df-convert:hover {\n",
       "      background-color: #434B5C;\n",
       "      box-shadow: 0px 1px 3px 1px rgba(0, 0, 0, 0.15);\n",
       "      filter: drop-shadow(0px 1px 2px rgba(0, 0, 0, 0.3));\n",
       "      fill: #FFFFFF;\n",
       "    }\n",
       "  </style>\n",
       "\n",
       "      <script>\n",
       "        const buttonEl =\n",
       "          document.querySelector('#df-681a458c-9e73-4c4a-8c36-848fb8fd436c button.colab-df-convert');\n",
       "        buttonEl.style.display =\n",
       "          google.colab.kernel.accessAllowed ? 'block' : 'none';\n",
       "\n",
       "        async function convertToInteractive(key) {\n",
       "          const element = document.querySelector('#df-681a458c-9e73-4c4a-8c36-848fb8fd436c');\n",
       "          const dataTable =\n",
       "            await google.colab.kernel.invokeFunction('convertToInteractive',\n",
       "                                                     [key], {});\n",
       "          if (!dataTable) return;\n",
       "\n",
       "          const docLinkHtml = 'Like what you see? Visit the ' +\n",
       "            '<a target=\"_blank\" href=https://colab.research.google.com/notebooks/data_table.ipynb>data table notebook</a>'\n",
       "            + ' to learn more about interactive tables.';\n",
       "          element.innerHTML = '';\n",
       "          dataTable['output_type'] = 'display_data';\n",
       "          await google.colab.output.renderOutput(dataTable, element);\n",
       "          const docLink = document.createElement('div');\n",
       "          docLink.innerHTML = docLinkHtml;\n",
       "          element.appendChild(docLink);\n",
       "        }\n",
       "      </script>\n",
       "    </div>\n",
       "  </div>\n",
       "  "
      ],
      "text/plain": [
       "  CouncillorId not_reelected reelected  Closeness_Centrality\n",
       "0         3923             0         1              0.002069"
      ]
     },
     "execution_count": 146,
     "metadata": {},
     "output_type": "execute_result"
    }
   ],
   "source": [
    "df_correlation_SP.head(1)"
   ]
  },
  {
   "cell_type": "markdown",
   "metadata": {
    "id": "IComtd30I4Pe"
   },
   "source": [
    "#Calculate Spearman-Correlation\n",
    "\n",
    "H0: There is no association between the two variables\n",
    "HA: There is a association between the two variables"
   ]
  },
  {
   "cell_type": "code",
   "execution_count": 309,
   "metadata": {
    "executionInfo": {
     "elapsed": 5,
     "status": "ok",
     "timestamp": 1654868175640,
     "user": {
      "displayName": "sandro suter",
      "userId": "14024534192952893127"
     },
     "user_tz": -120
    },
    "id": "iYgz1KXNI7VP"
   },
   "outputs": [],
   "source": [
    "def pearson_correlation_calc(df):\n",
    "  x = list(df['not_reelected'])\n",
    "  y = list(df['Closeness_Centrality'])\n",
    "  sp_cor = scipy.stats.pearsonr(x,y)\n",
    "  return sp_cor"
   ]
  },
  {
   "cell_type": "code",
   "execution_count": 310,
   "metadata": {
    "colab": {
     "base_uri": "https://localhost:8080/"
    },
    "executionInfo": {
     "elapsed": 4,
     "status": "ok",
     "timestamp": 1654868176902,
     "user": {
      "displayName": "sandro suter",
      "userId": "14024534192952893127"
     },
     "user_tz": -120
    },
    "id": "-d6i-hVtI7YE",
    "outputId": "5903a367-d764-4eb0-e1c3-7b84215e71a5"
   },
   "outputs": [
    {
     "name": "stdout",
     "output_type": "stream",
     "text": [
      "pearson correalation CVP:  (-0.1407593196262857, 0.5217733675167404)\n"
     ]
    }
   ],
   "source": [
    "print(\"pearson correalation CVP: \", pearson_correlation_calc(df_correlation_CVP))"
   ]
  },
  {
   "cell_type": "code",
   "execution_count": 311,
   "metadata": {
    "colab": {
     "base_uri": "https://localhost:8080/"
    },
    "executionInfo": {
     "elapsed": 3,
     "status": "ok",
     "timestamp": 1654868177981,
     "user": {
      "displayName": "sandro suter",
      "userId": "14024534192952893127"
     },
     "user_tz": -120
    },
    "id": "RFGHq32II7ix",
    "outputId": "6115e363-92f1-427d-cb7b-abe437873a62"
   },
   "outputs": [
    {
     "name": "stdout",
     "output_type": "stream",
     "text": [
      "pearson correalation SVP:  (-0.09382437614072714, 0.4956542750893363)\n"
     ]
    }
   ],
   "source": [
    "print(\"pearson correalation SVP: \",pearson_correlation_calc(df_correlation_SVP))"
   ]
  },
  {
   "cell_type": "code",
   "execution_count": 312,
   "metadata": {
    "colab": {
     "base_uri": "https://localhost:8080/"
    },
    "executionInfo": {
     "elapsed": 359,
     "status": "ok",
     "timestamp": 1654868180016,
     "user": {
      "displayName": "sandro suter",
      "userId": "14024534192952893127"
     },
     "user_tz": -120
    },
    "id": "OcHd293IJpZN",
    "outputId": "4b871a1f-a578-4857-be6e-aa38c71c81a5"
   },
   "outputs": [
    {
     "name": "stdout",
     "output_type": "stream",
     "text": [
      "pearson correalation SP:  (-0.01449909732343213, 0.9351354649336318)\n"
     ]
    }
   ],
   "source": [
    "print(\"pearson correalation SP: \",pearson_correlation_calc(df_correlation_SP))"
   ]
  },
  {
   "cell_type": "code",
   "execution_count": 305,
   "metadata": {
    "colab": {
     "base_uri": "https://localhost:8080/",
     "height": 699
    },
    "executionInfo": {
     "elapsed": 1120,
     "status": "ok",
     "timestamp": 1654868099702,
     "user": {
      "displayName": "sandro suter",
      "userId": "14024534192952893127"
     },
     "user_tz": -120
    },
    "id": "fqercSBTjxCZ",
    "outputId": "123a57b0-e593-4a80-8278-cea610331f0a"
   },
   "outputs": [
    {
     "data": {
      "text/plain": [
       "[<matplotlib.lines.Line2D at 0x7fac4da55610>]"
      ]
     },
     "execution_count": 305,
     "metadata": {},
     "output_type": "execute_result"
    },
    {
     "data": {
      "text/plain": [
       "<Figure size 1440x144 with 0 Axes>"
      ]
     },
     "metadata": {},
     "output_type": "display_data"
    },
    {
     "data": {
      "image/png": "[encoded data removed]",
      "text/plain": [
       "<Figure size 1440x720 with 3 Axes>"
      ]
     },
     "metadata": {
      "needs_background": "light"
     },
     "output_type": "display_data"
    }
   ],
   "source": [
    "#from IPython.core.pylabtools import figsize\n",
    "x_cvp = np.array(list(df_correlation_CVP['not_reelected']))\n",
    "y_cvp = np.array(list(df_correlation_CVP['Closeness_Centrality']))\n",
    "\n",
    "x_svp = np.array(list(df_correlation_SVP['not_reelected']))\n",
    "y_svp = np.array(list(df_correlation_SVP['Closeness_Centrality']))\n",
    "\n",
    "x_sp = np.array(list(df_correlation_SP['not_reelected']))\n",
    "y_sp = np.array(list(df_correlation_SP['Closeness_Centrality']))\n",
    "\n",
    "figsize(20,10)\n",
    "\n",
    "figure = plt.figure(figsize=(20, 2))\n",
    "figure,(ax1,ax2,ax3) = plt.subplots(1, 3)\n",
    "figure.suptitle('Scatterplots incl. regression line')\n",
    "\n",
    "ax1.scatter(x_cvp, y_cvp)\n",
    "ax1.set_title(\"CVP\")\n",
    "m, b = np.polyfit(x_cvp,y_cvp,1)\n",
    "ax1.plot(x,m*x+b, 'red')\n",
    "\n",
    "ax2.scatter(x_svp, y_svp)\n",
    "ax2.set_title(\"SVP\")\n",
    "m, b = np.polyfit(x_svp,y_svp,1)\n",
    "ax2.plot(x,m*x+b, 'red')\n",
    "\n",
    "ax3.scatter(x_sp, y_sp)\n",
    "ax3.set_title(\"SP\")\n",
    "m, b = np.polyfit(x_sp,y_sp,1)\n",
    "ax3.plot(x,m*x+b, 'red')"
   ]
  },
  {
   "cell_type": "markdown",
   "metadata": {
    "id": "Y-vZedkbKBDw"
   },
   "source": [
    "No, p-value is significant at alpha = 0.05. So H0 stands for each party.\n",
    "\n",
    "=> No Correlation!!!"
   ]
  },
  {
   "cell_type": "markdown",
   "metadata": {
    "id": "LdolgUvnKNax"
   },
   "source": [
    "# Closeness of \"Fraktionen\"\n",
    "Hypothesis: The 'right-Fraktion' is statisticaly significant more close to each other, than the 'left-Fraktion'."
   ]
  },
  {
   "cell_type": "code",
   "execution_count": null,
   "metadata": {
    "colab": {
     "base_uri": "https://localhost:8080/",
     "height": 424
    },
    "executionInfo": {
     "elapsed": 307,
     "status": "ok",
     "timestamp": 1654856961988,
     "user": {
      "displayName": "sandro suter",
      "userId": "14024534192952893127"
     },
     "user_tz": -120
    },
    "id": "mCZfVkj3KR6E",
    "outputId": "39982ace-dfca-47b9-f6e0-498fce09e93d"
   },
   "outputs": [
    {
     "data": {
      "text/html": [
       "\n",
       "  <div id=\"df-609ad81e-4c24-4236-b184-cba21d2a45c2\">\n",
       "    <div class=\"colab-df-container\">\n",
       "      <div>\n",
       "<style scoped>\n",
       "    .dataframe tbody tr th:only-of-type {\n",
       "        vertical-align: middle;\n",
       "    }\n",
       "\n",
       "    .dataframe tbody tr th {\n",
       "        vertical-align: top;\n",
       "    }\n",
       "\n",
       "    .dataframe thead th {\n",
       "        text-align: right;\n",
       "    }\n",
       "</style>\n",
       "<table border=\"1\" class=\"dataframe\">\n",
       "  <thead>\n",
       "    <tr style=\"text-align: right;\">\n",
       "      <th></th>\n",
       "      <th>Unnamed: 0</th>\n",
       "      <th>Closeness_Centrality</th>\n",
       "    </tr>\n",
       "  </thead>\n",
       "  <tbody>\n",
       "    <tr>\n",
       "      <th>0</th>\n",
       "      <td>4096</td>\n",
       "      <td>0.002778</td>\n",
       "    </tr>\n",
       "    <tr>\n",
       "      <th>1</th>\n",
       "      <td>4097</td>\n",
       "      <td>0.002748</td>\n",
       "    </tr>\n",
       "    <tr>\n",
       "      <th>2</th>\n",
       "      <td>4101</td>\n",
       "      <td>0.002762</td>\n",
       "    </tr>\n",
       "    <tr>\n",
       "      <th>3</th>\n",
       "      <td>4102</td>\n",
       "      <td>0.002848</td>\n",
       "    </tr>\n",
       "    <tr>\n",
       "      <th>4</th>\n",
       "      <td>4106</td>\n",
       "      <td>0.002477</td>\n",
       "    </tr>\n",
       "    <tr>\n",
       "      <th>...</th>\n",
       "      <td>...</td>\n",
       "      <td>...</td>\n",
       "    </tr>\n",
       "    <tr>\n",
       "      <th>77</th>\n",
       "      <td>4087</td>\n",
       "      <td>0.002838</td>\n",
       "    </tr>\n",
       "    <tr>\n",
       "      <th>78</th>\n",
       "      <td>4091</td>\n",
       "      <td>0.002494</td>\n",
       "    </tr>\n",
       "    <tr>\n",
       "      <th>79</th>\n",
       "      <td>4093</td>\n",
       "      <td>0.002571</td>\n",
       "    </tr>\n",
       "    <tr>\n",
       "      <th>80</th>\n",
       "      <td>4094</td>\n",
       "      <td>0.002883</td>\n",
       "    </tr>\n",
       "    <tr>\n",
       "      <th>81</th>\n",
       "      <td>4095</td>\n",
       "      <td>0.002590</td>\n",
       "    </tr>\n",
       "  </tbody>\n",
       "</table>\n",
       "<p>82 rows × 2 columns</p>\n",
       "</div>\n",
       "      <button class=\"colab-df-convert\" onclick=\"convertToInteractive('df-609ad81e-4c24-4236-b184-cba21d2a45c2')\"\n",
       "              title=\"Convert this dataframe to an interactive table.\"\n",
       "              style=\"display:none;\">\n",
       "        \n",
       "  <svg xmlns=\"http://www.w3.org/2000/svg\" height=\"24px\"viewBox=\"0 0 24 24\"\n",
       "       width=\"24px\">\n",
       "    <path d=\"M0 0h24v24H0V0z\" fill=\"none\"/>\n",
       "    <path d=\"M18.56 5.44l.94 2.06.94-2.06 2.06-.94-2.06-.94-.94-2.06-.94 2.06-2.06.94zm-11 1L8.5 8.5l.94-2.06 2.06-.94-2.06-.94L8.5 2.5l-.94 2.06-2.06.94zm10 10l.94 2.06.94-2.06 2.06-.94-2.06-.94-.94-2.06-.94 2.06-2.06.94z\"/><path d=\"M17.41 7.96l-1.37-1.37c-.4-.4-.92-.59-1.43-.59-.52 0-1.04.2-1.43.59L10.3 9.45l-7.72 7.72c-.78.78-.78 2.05 0 2.83L4 21.41c.39.39.9.59 1.41.59.51 0 1.02-.2 1.41-.59l7.78-7.78 2.81-2.81c.8-.78.8-2.07 0-2.86zM5.41 20L4 18.59l7.72-7.72 1.47 1.35L5.41 20z\"/>\n",
       "  </svg>\n",
       "      </button>\n",
       "      \n",
       "  <style>\n",
       "    .colab-df-container {\n",
       "      display:flex;\n",
       "      flex-wrap:wrap;\n",
       "      gap: 12px;\n",
       "    }\n",
       "\n",
       "    .colab-df-convert {\n",
       "      background-color: #E8F0FE;\n",
       "      border: none;\n",
       "      border-radius: 50%;\n",
       "      cursor: pointer;\n",
       "      display: none;\n",
       "      fill: #1967D2;\n",
       "      height: 32px;\n",
       "      padding: 0 0 0 0;\n",
       "      width: 32px;\n",
       "    }\n",
       "\n",
       "    .colab-df-convert:hover {\n",
       "      background-color: #E2EBFA;\n",
       "      box-shadow: 0px 1px 2px rgba(60, 64, 67, 0.3), 0px 1px 3px 1px rgba(60, 64, 67, 0.15);\n",
       "      fill: #174EA6;\n",
       "    }\n",
       "\n",
       "    [theme=dark] .colab-df-convert {\n",
       "      background-color: #3B4455;\n",
       "      fill: #D2E3FC;\n",
       "    }\n",
       "\n",
       "    [theme=dark] .colab-df-convert:hover {\n",
       "      background-color: #434B5C;\n",
       "      box-shadow: 0px 1px 3px 1px rgba(0, 0, 0, 0.15);\n",
       "      filter: drop-shadow(0px 1px 2px rgba(0, 0, 0, 0.3));\n",
       "      fill: #FFFFFF;\n",
       "    }\n",
       "  </style>\n",
       "\n",
       "      <script>\n",
       "        const buttonEl =\n",
       "          document.querySelector('#df-609ad81e-4c24-4236-b184-cba21d2a45c2 button.colab-df-convert');\n",
       "        buttonEl.style.display =\n",
       "          google.colab.kernel.accessAllowed ? 'block' : 'none';\n",
       "\n",
       "        async function convertToInteractive(key) {\n",
       "          const element = document.querySelector('#df-609ad81e-4c24-4236-b184-cba21d2a45c2');\n",
       "          const dataTable =\n",
       "            await google.colab.kernel.invokeFunction('convertToInteractive',\n",
       "                                                     [key], {});\n",
       "          if (!dataTable) return;\n",
       "\n",
       "          const docLinkHtml = 'Like what you see? Visit the ' +\n",
       "            '<a target=\"_blank\" href=https://colab.research.google.com/notebooks/data_table.ipynb>data table notebook</a>'\n",
       "            + ' to learn more about interactive tables.';\n",
       "          element.innerHTML = '';\n",
       "          dataTable['output_type'] = 'display_data';\n",
       "          await google.colab.output.renderOutput(dataTable, element);\n",
       "          const docLink = document.createElement('div');\n",
       "          docLink.innerHTML = docLinkHtml;\n",
       "          element.appendChild(docLink);\n",
       "        }\n",
       "      </script>\n",
       "    </div>\n",
       "  </div>\n",
       "  "
      ],
      "text/plain": [
       "    Unnamed: 0  Closeness_Centrality\n",
       "0         4096              0.002778\n",
       "1         4097              0.002748\n",
       "2         4101              0.002762\n",
       "3         4102              0.002848\n",
       "4         4106              0.002477\n",
       "..         ...                   ...\n",
       "77        4087              0.002838\n",
       "78        4091              0.002494\n",
       "79        4093              0.002571\n",
       "80        4094              0.002883\n",
       "81        4095              0.002590\n",
       "\n",
       "[82 rows x 2 columns]"
      ]
     },
     "execution_count": 153,
     "metadata": {},
     "output_type": "execute_result"
    }
   ],
   "source": [
    "df_closeness_left"
   ]
  },
  {
   "cell_type": "code",
   "execution_count": null,
   "metadata": {
    "colab": {
     "base_uri": "https://localhost:8080/",
     "height": 424
    },
    "executionInfo": {
     "elapsed": 305,
     "status": "ok",
     "timestamp": 1654857002309,
     "user": {
      "displayName": "sandro suter",
      "userId": "14024534192952893127"
     },
     "user_tz": -120
    },
    "id": "LiSxajSKKa2f",
    "outputId": "f27e73ac-2829-4ee9-8f40-16e2ed57bc77"
   },
   "outputs": [
    {
     "data": {
      "text/html": [
       "\n",
       "  <div id=\"df-b7904ffa-d7dd-40f4-bd95-ae2038ddd710\">\n",
       "    <div class=\"colab-df-container\">\n",
       "      <div>\n",
       "<style scoped>\n",
       "    .dataframe tbody tr th:only-of-type {\n",
       "        vertical-align: middle;\n",
       "    }\n",
       "\n",
       "    .dataframe tbody tr th {\n",
       "        vertical-align: top;\n",
       "    }\n",
       "\n",
       "    .dataframe thead th {\n",
       "        text-align: right;\n",
       "    }\n",
       "</style>\n",
       "<table border=\"1\" class=\"dataframe\">\n",
       "  <thead>\n",
       "    <tr style=\"text-align: right;\">\n",
       "      <th></th>\n",
       "      <th>Unnamed: 0</th>\n",
       "      <th>Closeness_Centrality</th>\n",
       "    </tr>\n",
       "  </thead>\n",
       "  <tbody>\n",
       "    <tr>\n",
       "      <th>0</th>\n",
       "      <td>4098</td>\n",
       "      <td>0.001680</td>\n",
       "    </tr>\n",
       "    <tr>\n",
       "      <th>1</th>\n",
       "      <td>514</td>\n",
       "      <td>0.002448</td>\n",
       "    </tr>\n",
       "    <tr>\n",
       "      <th>2</th>\n",
       "      <td>4100</td>\n",
       "      <td>0.001731</td>\n",
       "    </tr>\n",
       "    <tr>\n",
       "      <th>3</th>\n",
       "      <td>4103</td>\n",
       "      <td>0.001667</td>\n",
       "    </tr>\n",
       "    <tr>\n",
       "      <th>4</th>\n",
       "      <td>4110</td>\n",
       "      <td>0.001756</td>\n",
       "    </tr>\n",
       "    <tr>\n",
       "      <th>...</th>\n",
       "      <td>...</td>\n",
       "      <td>...</td>\n",
       "    </tr>\n",
       "    <tr>\n",
       "      <th>85</th>\n",
       "      <td>4073</td>\n",
       "      <td>0.001682</td>\n",
       "    </tr>\n",
       "    <tr>\n",
       "      <th>86</th>\n",
       "      <td>4077</td>\n",
       "      <td>0.001693</td>\n",
       "    </tr>\n",
       "    <tr>\n",
       "      <th>87</th>\n",
       "      <td>4079</td>\n",
       "      <td>0.001843</td>\n",
       "    </tr>\n",
       "    <tr>\n",
       "      <th>88</th>\n",
       "      <td>4084</td>\n",
       "      <td>0.001555</td>\n",
       "    </tr>\n",
       "    <tr>\n",
       "      <th>89</th>\n",
       "      <td>4090</td>\n",
       "      <td>0.001708</td>\n",
       "    </tr>\n",
       "  </tbody>\n",
       "</table>\n",
       "<p>90 rows × 2 columns</p>\n",
       "</div>\n",
       "      <button class=\"colab-df-convert\" onclick=\"convertToInteractive('df-b7904ffa-d7dd-40f4-bd95-ae2038ddd710')\"\n",
       "              title=\"Convert this dataframe to an interactive table.\"\n",
       "              style=\"display:none;\">\n",
       "        \n",
       "  <svg xmlns=\"http://www.w3.org/2000/svg\" height=\"24px\"viewBox=\"0 0 24 24\"\n",
       "       width=\"24px\">\n",
       "    <path d=\"M0 0h24v24H0V0z\" fill=\"none\"/>\n",
       "    <path d=\"M18.56 5.44l.94 2.06.94-2.06 2.06-.94-2.06-.94-.94-2.06-.94 2.06-2.06.94zm-11 1L8.5 8.5l.94-2.06 2.06-.94-2.06-.94L8.5 2.5l-.94 2.06-2.06.94zm10 10l.94 2.06.94-2.06 2.06-.94-2.06-.94-.94-2.06-.94 2.06-2.06.94z\"/><path d=\"M17.41 7.96l-1.37-1.37c-.4-.4-.92-.59-1.43-.59-.52 0-1.04.2-1.43.59L10.3 9.45l-7.72 7.72c-.78.78-.78 2.05 0 2.83L4 21.41c.39.39.9.59 1.41.59.51 0 1.02-.2 1.41-.59l7.78-7.78 2.81-2.81c.8-.78.8-2.07 0-2.86zM5.41 20L4 18.59l7.72-7.72 1.47 1.35L5.41 20z\"/>\n",
       "  </svg>\n",
       "      </button>\n",
       "      \n",
       "  <style>\n",
       "    .colab-df-container {\n",
       "      display:flex;\n",
       "      flex-wrap:wrap;\n",
       "      gap: 12px;\n",
       "    }\n",
       "\n",
       "    .colab-df-convert {\n",
       "      background-color: #E8F0FE;\n",
       "      border: none;\n",
       "      border-radius: 50%;\n",
       "      cursor: pointer;\n",
       "      display: none;\n",
       "      fill: #1967D2;\n",
       "      height: 32px;\n",
       "      padding: 0 0 0 0;\n",
       "      width: 32px;\n",
       "    }\n",
       "\n",
       "    .colab-df-convert:hover {\n",
       "      background-color: #E2EBFA;\n",
       "      box-shadow: 0px 1px 2px rgba(60, 64, 67, 0.3), 0px 1px 3px 1px rgba(60, 64, 67, 0.15);\n",
       "      fill: #174EA6;\n",
       "    }\n",
       "\n",
       "    [theme=dark] .colab-df-convert {\n",
       "      background-color: #3B4455;\n",
       "      fill: #D2E3FC;\n",
       "    }\n",
       "\n",
       "    [theme=dark] .colab-df-convert:hover {\n",
       "      background-color: #434B5C;\n",
       "      box-shadow: 0px 1px 3px 1px rgba(0, 0, 0, 0.15);\n",
       "      filter: drop-shadow(0px 1px 2px rgba(0, 0, 0, 0.3));\n",
       "      fill: #FFFFFF;\n",
       "    }\n",
       "  </style>\n",
       "\n",
       "      <script>\n",
       "        const buttonEl =\n",
       "          document.querySelector('#df-b7904ffa-d7dd-40f4-bd95-ae2038ddd710 button.colab-df-convert');\n",
       "        buttonEl.style.display =\n",
       "          google.colab.kernel.accessAllowed ? 'block' : 'none';\n",
       "\n",
       "        async function convertToInteractive(key) {\n",
       "          const element = document.querySelector('#df-b7904ffa-d7dd-40f4-bd95-ae2038ddd710');\n",
       "          const dataTable =\n",
       "            await google.colab.kernel.invokeFunction('convertToInteractive',\n",
       "                                                     [key], {});\n",
       "          if (!dataTable) return;\n",
       "\n",
       "          const docLinkHtml = 'Like what you see? Visit the ' +\n",
       "            '<a target=\"_blank\" href=https://colab.research.google.com/notebooks/data_table.ipynb>data table notebook</a>'\n",
       "            + ' to learn more about interactive tables.';\n",
       "          element.innerHTML = '';\n",
       "          dataTable['output_type'] = 'display_data';\n",
       "          await google.colab.output.renderOutput(dataTable, element);\n",
       "          const docLink = document.createElement('div');\n",
       "          docLink.innerHTML = docLinkHtml;\n",
       "          element.appendChild(docLink);\n",
       "        }\n",
       "      </script>\n",
       "    </div>\n",
       "  </div>\n",
       "  "
      ],
      "text/plain": [
       "    Unnamed: 0  Closeness_Centrality\n",
       "0         4098              0.001680\n",
       "1          514              0.002448\n",
       "2         4100              0.001731\n",
       "3         4103              0.001667\n",
       "4         4110              0.001756\n",
       "..         ...                   ...\n",
       "85        4073              0.001682\n",
       "86        4077              0.001693\n",
       "87        4079              0.001843\n",
       "88        4084              0.001555\n",
       "89        4090              0.001708\n",
       "\n",
       "[90 rows x 2 columns]"
      ]
     },
     "execution_count": 154,
     "metadata": {},
     "output_type": "execute_result"
    }
   ],
   "source": [
    "df_closeness_right"
   ]
  },
  {
   "cell_type": "code",
   "execution_count": null,
   "metadata": {
    "colab": {
     "base_uri": "https://localhost:8080/"
    },
    "executionInfo": {
     "elapsed": 6,
     "status": "ok",
     "timestamp": 1654857117815,
     "user": {
      "displayName": "sandro suter",
      "userId": "14024534192952893127"
     },
     "user_tz": -120
    },
    "id": "RzpglH_0Kb05",
    "outputId": "2b6a81b2-cb15-4476-cfd2-f880a76d7ded"
   },
   "outputs": [
    {
     "data": {
      "text/plain": [
       "0.0028109805276674477"
      ]
     },
     "execution_count": 161,
     "metadata": {},
     "output_type": "execute_result"
    }
   ],
   "source": [
    "avg_closeness_left = sum(list(df_closeness_left['Closeness_Centrality'])) / len(list(df_closeness_left['Closeness_Centrality']))\n",
    "avg_closeness_left"
   ]
  },
  {
   "cell_type": "code",
   "execution_count": null,
   "metadata": {
    "colab": {
     "base_uri": "https://localhost:8080/"
    },
    "executionInfo": {
     "elapsed": 297,
     "status": "ok",
     "timestamp": 1654857130521,
     "user": {
      "displayName": "sandro suter",
      "userId": "14024534192952893127"
     },
     "user_tz": -120
    },
    "id": "_F1gE8TVKb3s",
    "outputId": "1fa726be-4771-4724-dac1-bdbf6b163242"
   },
   "outputs": [
    {
     "data": {
      "text/plain": [
       "0.001765233751899734"
      ]
     },
     "execution_count": 163,
     "metadata": {},
     "output_type": "execute_result"
    }
   ],
   "source": [
    "avg_closeness_right = sum(list(df_closeness_right['Closeness_Centrality'])) / len(list(df_closeness_right['Closeness_Centrality']))\n",
    "avg_closeness_right"
   ]
  },
  {
   "cell_type": "markdown",
   "metadata": {
    "id": "vUI3-SBtLbUB"
   },
   "source": [
    "Oh a first surprise. The closeness of the 'right-Fraktion' is in the average allready smaller than the closeness of the 'left-Fraktion'. But let's check if this distance is significant.\n",
    "\n",
    "For the further step the Hypothesis is changed to: The 'left-Fraktion' is statisticaly significant more close to each other, than the 'right-Fraktion'."
   ]
  },
  {
   "cell_type": "code",
   "execution_count": 258,
   "metadata": {
    "colab": {
     "base_uri": "https://localhost:8080/"
    },
    "executionInfo": {
     "elapsed": 5,
     "status": "ok",
     "timestamp": 1654865480174,
     "user": {
      "displayName": "sandro suter",
      "userId": "14024534192952893127"
     },
     "user_tz": -120
    },
    "id": "-bBpe8AyKb6r",
    "outputId": "89c0c8d6-b02e-4389-ed1a-364ad4c33d6f"
   },
   "outputs": [
    {
     "name": "stdout",
     "output_type": "stream",
     "text": [
      "Skew before any transformation left:  2.7392959789964926\n",
      "Skew before any transformation right:  3.730376958462155\n",
      "****************************************************************************************************\n",
      "Skew after log-transformation left:  2.161447152836192\n",
      "Skew after log-transformation right:  3.2056341404388897\n",
      "****************************************************************************************************\n",
      "Skew after sqrt-transformation left:  2.4384631926850298\n",
      "Skew after sqrt-transformation right:  3.4715462074123065\n",
      "****************************************************************************************************\n",
      "Skew after boxcox-transformation left:  0.38144997954989956\n",
      "Skew after boxcox-transformation right:  0.10924910229244139\n"
     ]
    }
   ],
   "source": [
    "#from numpy import exp\n",
    "#from scipy.stats import boxcox\n",
    "\n",
    "data_l = df_closeness_left['Closeness_Centrality']\n",
    "data_r = df_closeness_right['Closeness_Centrality']\n",
    "print('Skew before any transformation left: ', data_l.skew())\n",
    "print('Skew before any transformation right: ', data_r.skew())\n",
    "\n",
    "print(\"*\"*100)\n",
    "\n",
    "data_log_l = np.log(data_l)\n",
    "data_log_r = np.log(data_r)\n",
    "print('Skew after log-transformation left: ', data_log_l.skew())\n",
    "print('Skew after log-transformation right: ', data_log_r.skew())\n",
    "\n",
    "\n",
    "print(\"*\"*100)\n",
    "\n",
    "data_sqrt_l = np.sqrt(data_l)\n",
    "print('Skew after sqrt-transformation left: ', data_sqrt_l.skew())\n",
    "data_sqrt_r = np.sqrt(data_r)\n",
    "print('Skew after sqrt-transformation right: ', data_sqrt_r.skew())\n",
    "\n",
    "print(\"*\"*100)\n",
    "\n",
    "data_box_l = boxcox(data_l)[0]\n",
    "data_box_l = pd.Series(data_box_l)\n",
    "print(\"Skew after boxcox-transformation left: \", data_box_l.skew())\n",
    "data_box_r = boxcox(data_r)[0]\n",
    "data_box_r = pd.Series(data_box_r)\n",
    "print(\"Skew after boxcox-transformation right: \", data_box_r.skew())"
   ]
  },
  {
   "cell_type": "code",
   "execution_count": 324,
   "metadata": {
    "colab": {
     "base_uri": "https://localhost:8080/",
     "height": 699
    },
    "executionInfo": {
     "elapsed": 1144,
     "status": "ok",
     "timestamp": 1654868614343,
     "user": {
      "displayName": "sandro suter",
      "userId": "14024534192952893127"
     },
     "user_tz": -120
    },
    "id": "HmxozyTp1da3",
    "outputId": "4233faf6-d667-4c89-c62a-fc24fb35868c"
   },
   "outputs": [
    {
     "data": {
      "text/plain": [
       "Text(0.5, 1.0, 'Boxplot Right')"
      ]
     },
     "execution_count": 324,
     "metadata": {},
     "output_type": "execute_result"
    },
    {
     "data": {
      "text/plain": [
       "<Figure size 1440x144 with 0 Axes>"
      ]
     },
     "metadata": {},
     "output_type": "display_data"
    },
    {
     "data": {
      "image/png": "[encoded data removed]",
      "text/plain": [
       "<Figure size 1440x720 with 4 Axes>"
      ]
     },
     "metadata": {
      "needs_background": "light"
     },
     "output_type": "display_data"
    }
   ],
   "source": [
    "figure = plt.figure(figsize=(20, 2))\n",
    "figure,axis = plt.subplots(2, 2)\n",
    "figure.suptitle('Distributions')\n",
    "\n",
    "\n",
    "axis[0,0].hist(data_box_l)\n",
    "axis[0,0].set_title(\"Distribution Left\")\n",
    "\n",
    "axis[0,1].hist(data_box_r)\n",
    "axis[0,1].set_title(\"Distribution Right\")\n",
    "\n",
    "axis[1,0].boxplot(data_box_l)\n",
    "axis[1,0].set_title('Boxplot Left')\n",
    "\n",
    "axis[1,1].boxplot(data_box_r)\n",
    "axis[1,1].set_title('Boxplot Right')"
   ]
  },
  {
   "cell_type": "code",
   "execution_count": 271,
   "metadata": {
    "colab": {
     "base_uri": "https://localhost:8080/"
    },
    "executionInfo": {
     "elapsed": 405,
     "status": "ok",
     "timestamp": 1654866099179,
     "user": {
      "displayName": "sandro suter",
      "userId": "14024534192952893127"
     },
     "user_tz": -120
    },
    "id": "ShegHzX7KcPw",
    "outputId": "3795995f-8b5c-44cb-9a51-a879fa641411"
   },
   "outputs": [
    {
     "data": {
      "text/plain": [
       "Ttest_indResult(statistic=23.064742917741725, pvalue=2.598059781542028e-39)"
      ]
     },
     "execution_count": 271,
     "metadata": {},
     "output_type": "execute_result"
    }
   ],
   "source": [
    "scipy.stats.ttest_ind(data_box_l, data_box_r, equal_var=False)"
   ]
  },
  {
   "cell_type": "markdown",
   "metadata": {
    "id": "PDrxp6sd5pAr"
   },
   "source": [
    "H0: left = right\n",
    "HA: left != right\n",
    "\n",
    "Highly significant p-value so HA!\n",
    "\n",
    "ATTENTION:\n",
    "No normal distribution and not the same variance"
   ]
  }
 ],
 "metadata": {
  "colab": {
   "authorship_tag": "ABX9TyOSM0he4cakx/Q7WfPYE4EM",
   "collapsed_sections": [],
   "mount_file_id": "14lWQExiJPJxXZMhRGqfewHLzd4LwEgxw",
   "name": "01_Correlation.ipynb",
   "provenance": [],
   "toc_visible": true
  },
  "kernelspec": {
   "display_name": "Python 3",
   "language": "python",
   "name": "python3"
  },
  "language_info": {
   "codemirror_mode": {
    "name": "ipython",
    "version": 3
   },
   "file_extension": ".py",
   "mimetype": "text/x-python",
   "name": "python",
   "nbconvert_exporter": "python",
   "pygments_lexer": "ipython3",
   "version": "3.8.8"
  }
 },
 "nbformat": 4,
 "nbformat_minor": 1
}
